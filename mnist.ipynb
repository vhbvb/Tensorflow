{
 "cells": [
  {
   "cell_type": "code",
   "execution_count": 1,
   "metadata": {},
   "outputs": [],
   "source": [
    "import tensorflow as tf\n",
    "import numpy as np\n",
    "import pandas as pd "
   ]
  },
  {
   "cell_type": "code",
   "execution_count": 2,
   "metadata": {},
   "outputs": [],
   "source": [
    "def dense_to_one_hot(label_dense,num_classes):\n",
    "    num_lables = label_dense.shape[0]\n",
    "    index_offset = np.arange(num_lables) *num_classes\n",
    "    label_one_hot = np.zeros((num_lables, num_classes))\n",
    "    label_one_hot.flat[index_offset + label_dense.ravel()] = 1\n",
    "    return label_one_hot"
   ]
  },
  {
   "cell_type": "markdown",
   "metadata": {},
   "source": [
    "#### // 读取数据"
   ]
  },
  {
   "cell_type": "code",
   "execution_count": 3,
   "metadata": {},
   "outputs": [],
   "source": [
    "train = pd.read_csv(\"data/train.csv\")\n",
    "images = train.iloc[:,1:].values\n",
    "labels_flat = train.iloc[:,:1].values.ravel()\n",
    "images = images.astype(np.float)\n",
    "images = np.multiply(images, 1.0/255.0)\n",
    "image_size = images.shape[1]\n",
    "image_width = image_height = np.ceil(np.sqrt(image_size)).astype(np.uint8)"
   ]
  },
  {
   "cell_type": "code",
   "execution_count": 4,
   "metadata": {},
   "outputs": [],
   "source": [
    "labels_count = np.unique(labels_flat).shape[0]\n",
    "labels = dense_to_one_hot(labels_flat,labels_count)\n",
    "labels = labels.astype(np.uint8)\n",
    "\n",
    "x = tf.placeholder(\"float\", shape=[None, image_size])\n",
    "y = tf.placeholder(\"float\", shape=[None, labels_count])"
   ]
  },
  {
   "cell_type": "markdown",
   "metadata": {},
   "source": [
    "#### // 数据集分组"
   ]
  },
  {
   "cell_type": "code",
   "execution_count": 5,
   "metadata": {},
   "outputs": [],
   "source": [
    "VALIDATION_SIZE = 2000\n",
    "validation_images = images[:VALIDATION_SIZE]\n",
    "validation_labels = labels[:VALIDATION_SIZE]\n",
    "train_images = images[VALIDATION_SIZE:]\n",
    "train_labels = labels[VALIDATION_SIZE:]"
   ]
  },
  {
   "cell_type": "markdown",
   "metadata": {},
   "source": [
    "#### //模型建立"
   ]
  },
  {
   "cell_type": "code",
   "execution_count": 6,
   "metadata": {},
   "outputs": [],
   "source": [
    "weights = tf.Variable(tf.zeros([784,10]))\n",
    "biases = tf.Variable(tf.zeros([10]))\n",
    "prediction = tf.matmul(x,weights)+biases\n",
    "# prediction = tf.nn.softmax(result)\n",
    "\n",
    "loss = tf.reduce_mean(tf.nn.softmax_cross_entropy_with_logits_v2(labels =y, logits= prediction))\n",
    "train_step = tf.train.GradientDescentOptimizer(0.1).minimize(loss)"
   ]
  },
  {
   "cell_type": "code",
   "execution_count": 7,
   "metadata": {},
   "outputs": [],
   "source": [
    "init = tf.global_variables_initializer()\n",
    "correct_prediction = tf.equal(tf.argmax(y,1),tf.argmax(prediction,1))\n",
    "accuracy = tf.reduce_mean(tf.cast(correct_prediction,tf.float32))"
   ]
  },
  {
   "cell_type": "code",
   "execution_count": 8,
   "metadata": {},
   "outputs": [
    {
     "name": "stdout",
     "output_type": "stream",
     "text": [
      "第1轮，准确度为：0.89\n",
      "第2轮，准确度为：0.8995\n",
      "第3轮，准确度为：0.9025\n",
      "第4轮，准确度为：0.9085\n",
      "第5轮，准确度为：0.912\n",
      "第6轮，准确度为：0.9145\n",
      "第7轮，准确度为：0.9175\n",
      "第8轮，准确度为：0.9185\n",
      "第9轮，准确度为：0.9195\n",
      "第10轮，准确度为：0.921\n",
      "第11轮，准确度为：0.921\n",
      "第12轮，准确度为：0.9215\n",
      "第13轮，准确度为：0.921\n",
      "第14轮，准确度为：0.9215\n",
      "第15轮，准确度为：0.921\n",
      "第16轮，准确度为：0.921\n",
      "第17轮，准确度为：0.9205\n",
      "第18轮，准确度为：0.9205\n",
      "第19轮，准确度为：0.921\n",
      "第20轮，准确度为：0.922\n"
     ]
    }
   ],
   "source": [
    "with tf.Session() as sess:\n",
    "    \n",
    "    sess.run(init)\n",
    "    batch_size = 100\n",
    "    n_bacth = train_images.shape[0]/batch_size\n",
    "    for epoch in range(20):\n",
    "        for bacth in range(n_bacth):\n",
    "            batch_x = train_images[bacth*batch_size:(bacth + 1)*batch_size]\n",
    "            bacth_y = train_labels[bacth*batch_size:(bacth + 1)*batch_size]\n",
    "            sess.run(train_step,feed_dict={x:batch_x, y:bacth_y})\n",
    "        \n",
    "        accuracy_n = sess.run(accuracy,feed_dict={x: validation_images, y: validation_labels}) \n",
    "        print(\"第\" + str(epoch+1) + \"轮，准确度为：\" + str(accuracy_n))"
   ]
  },
  {
   "cell_type": "code",
   "execution_count": null,
   "metadata": {},
   "outputs": [],
   "source": []
  }
 ],
 "metadata": {
  "kernelspec": {
   "display_name": "Python 2",
   "language": "python",
   "name": "python2"
  },
  "language_info": {
   "codemirror_mode": {
    "name": "ipython",
    "version": 2
   },
   "file_extension": ".py",
   "mimetype": "text/x-python",
   "name": "python",
   "nbconvert_exporter": "python",
   "pygments_lexer": "ipython2",
   "version": "2.7.15"
  }
 },
 "nbformat": 4,
 "nbformat_minor": 2
}
