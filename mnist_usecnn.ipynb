{
 "cells": [
  {
   "cell_type": "code",
   "execution_count": 1,
   "metadata": {},
   "outputs": [],
   "source": [
    "import tensorflow as tf\n",
    "import numpy as np\n",
    "import pandas as pd "
   ]
  },
  {
   "cell_type": "code",
   "execution_count": 2,
   "metadata": {},
   "outputs": [],
   "source": [
    "def dense_to_one_hot(label_dense,num_classes):\n",
    "    num_lables = label_dense.shape[0]\n",
    "    index_offset = np.arange(num_lables) *num_classes\n",
    "    label_one_hot = np.zeros((num_lables, num_classes))\n",
    "    label_one_hot.flat[index_offset + label_dense.ravel()] = 1\n",
    "    return label_one_hot"
   ]
  },
  {
   "cell_type": "markdown",
   "metadata": {},
   "source": [
    "#### 读取数据"
   ]
  },
  {
   "cell_type": "code",
   "execution_count": 3,
   "metadata": {},
   "outputs": [],
   "source": [
    "train = pd.read_csv(\"data/train.csv\")\n",
    "images = train.iloc[:,1:].values\n",
    "labels_flat = train.iloc[:,:1].values.ravel()\n",
    "\n",
    "images = images.astype(np.float)\n",
    "images = np.multiply(images, 1.0/255.0)\n",
    "image_size = images.shape[1]\n",
    "image_width = image_height = np.ceil(np.sqrt(image_size)).astype(np.uint8)\n",
    "x = tf.placeholder(\"float\", shape=[None, image_size])\n",
    "labels_count = np.unique(labels_flat).shape[0]\n",
    "y = tf.placeholder(\"float\", shape=[None, labels_count])\n",
    "labels = dense_to_one_hot(labels_flat,labels_count)\n",
    "labels = labels.astype(np.uint8)"
   ]
  },
  {
   "cell_type": "markdown",
   "metadata": {},
   "source": [
    "#### 数据分集"
   ]
  },
  {
   "cell_type": "code",
   "execution_count": 4,
   "metadata": {},
   "outputs": [],
   "source": [
    "VALIDATION_SIZE = 2000\n",
    "validation_images = images[:VALIDATION_SIZE]\n",
    "validation_labels = labels[:VALIDATION_SIZE]\n",
    "train_images = images[VALIDATION_SIZE:]\n",
    "train_labels = labels[VALIDATION_SIZE:]"
   ]
  },
  {
   "cell_type": "markdown",
   "metadata": {},
   "source": [
    "#### 模型定义"
   ]
  },
  {
   "cell_type": "code",
   "execution_count": 5,
   "metadata": {},
   "outputs": [],
   "source": [
    "def weight_varible(shape):\n",
    "    initial = tf.truncated_normal(shape,stddev=0.1)\n",
    "    return tf.Variable(initial)\n",
    "\n",
    "def bias_varible(shape):\n",
    "    initial = tf.constant(0.1, shape=shape)\n",
    "    return tf.Variable(initial)\n",
    "\n",
    "def conv2d(x,w):\n",
    "    return tf.nn.conv2d(x,w,strides=[1,1,1,1],padding=\"VALID\")\n",
    "\n",
    "def max_pool_2x2(x):\n",
    "    return tf.nn.max_pool(x,ksize=[1,2,2,1],strides=[1,2,2,1],padding=\"VALID\")"
   ]
  },
  {
   "cell_type": "markdown",
   "metadata": {},
   "source": [
    "####  模型"
   ]
  },
  {
   "cell_type": "code",
   "execution_count": 6,
   "metadata": {},
   "outputs": [],
   "source": [
    "x_image = tf.reshape(x,[-1,28,28,1])\n",
    "\n",
    "# （28-3 + 1）/ 2 = 13\n",
    "w_conv1 = weight_varible([3,3,1,16])\n",
    "b_conv1 = bias_varible([16])\n",
    "h_conv1 = tf.nn.relu(conv2d(x_image,w_conv1)+b_conv1)\n",
    "h_pool1 = max_pool_2x2(h_conv1)\n",
    "\n",
    "#  (13-6+1)/2 = 4 \n",
    "w_conv2 = weight_varible([6,6,16,128])\n",
    "b_conv2 = bias_varible([128])\n",
    "h_conv2 = tf.nn.relu(conv2d(h_pool1,w_conv2)+b_conv2)\n",
    "h_pool2 = max_pool_2x2(h_conv2)\n",
    "h_pool2_flat = tf.reshape(h_pool2,[-1,4*4*128])\n",
    "\n",
    "w_fc1 = weight_varible([4*4*128,128])\n",
    "b_fc1 = bias_varible([128])\n",
    "h_fc1 = tf.nn.relu(tf.matmul(h_pool2_flat,w_fc1)+b_fc1)\n",
    "keep_prob = tf.placeholder(tf.float32)\n",
    "h_fc1_drop = tf.nn.dropout(h_fc1,keep_prob)\n",
    "\n",
    "w_fc2 = weight_varible([128,10])\n",
    "b_fc2 = bias_varible([10])\n",
    "y_conv = tf.matmul(h_fc1_drop,w_fc2)+b_fc2"
   ]
  },
  {
   "cell_type": "markdown",
   "metadata": {},
   "source": [
    "#### 定义损失函数与优化方式"
   ]
  },
  {
   "cell_type": "code",
   "execution_count": 7,
   "metadata": {},
   "outputs": [],
   "source": [
    "loss = tf.reduce_mean(tf.nn.softmax_cross_entropy_with_logits_v2(labels=y,logits=y_conv))\n",
    "\n",
    "train_step = tf.train.AdadeltaOptimizer(learning_rate=0.1).minimize(loss)\n",
    "\n",
    "correct_prediction = tf.equal(tf.argmax(y,1),tf.argmax(y_conv,1))\n",
    "\n",
    "accuracy = tf.reduce_mean(tf.cast(correct_prediction,tf.float32))\n",
    "\n",
    "global_step = tf.Variable(0,name='global_step',trainable=False)\n",
    "\n",
    "saver= tf.train.Saver()\n",
    "\n",
    "init = tf.global_variables_initializer()"
   ]
  },
  {
   "cell_type": "markdown",
   "metadata": {},
   "source": [
    "#### 进行训练"
   ]
  },
  {
   "cell_type": "code",
   "execution_count": 8,
   "metadata": {},
   "outputs": [
    {
     "name": "stdout",
     "output_type": "stream",
     "text": [
      "第1轮，训练准确度为：0.8\n",
      "第1轮，准确度为：0.7945\n",
      "第2轮，训练准确度为：0.91\n",
      "第2轮，准确度为：0.881\n",
      "第3轮，训练准确度为：0.93\n",
      "第3轮，准确度为：0.8995\n",
      "第4轮，训练准确度为：0.94\n",
      "第4轮，准确度为：0.9175\n",
      "第5轮，训练准确度为：0.94\n",
      "第5轮，准确度为：0.929\n",
      "第6轮，训练准确度为：0.96\n",
      "第6轮，准确度为：0.937\n",
      "第7轮，训练准确度为：0.97\n",
      "第7轮，准确度为：0.9415\n",
      "第8轮，训练准确度为：0.97\n",
      "第8轮，准确度为：0.945\n",
      "第9轮，训练准确度为：0.97\n",
      "第9轮，准确度为：0.949\n",
      "第10轮，训练准确度为：0.97\n",
      "第10轮，准确度为：0.9535\n",
      "第11轮，训练准确度为：0.97\n",
      "第11轮，准确度为：0.957\n",
      "第12轮，训练准确度为：0.97\n",
      "第12轮，准确度为：0.9595\n",
      "第13轮，训练准确度为：0.97\n",
      "第13轮，准确度为：0.9645\n",
      "第14轮，训练准确度为：0.97\n",
      "第14轮，准确度为：0.9665\n",
      "第15轮，训练准确度为：0.98\n",
      "第15轮，准确度为：0.97\n",
      "第16轮，训练准确度为：0.98\n",
      "第16轮，准确度为：0.9705\n",
      "第17轮，训练准确度为：0.98\n",
      "第17轮，准确度为：0.974\n",
      "第18轮，训练准确度为：0.99\n",
      "第18轮，准确度为：0.9735\n",
      "第19轮，训练准确度为：0.98\n",
      "第19轮，准确度为：0.9745\n",
      "第20轮，训练准确度为：0.99\n",
      "第20轮，准确度为：0.975\n"
     ]
    }
   ],
   "source": [
    "with tf.Session() as sess:\n",
    "    sess.run(init)\n",
    "    \n",
    "    for enpoch in range(20):\n",
    "        batch_size = 100\n",
    "        n_batch = len(train_images)/batch_size\n",
    "        for batch in range(n_batch):\n",
    "#             print(\"----------->round:\"+str(enpoch+1) + \"/5, rate:\"+str(batch+1) + \"/\" + str(n_batch))\n",
    "            batch_x = train_images[batch*batch_size:(batch+1)*batch_size]\n",
    "            batch_y = train_labels[batch*batch_size:(batch+1)*batch_size]\n",
    "            sess.run(train_step,feed_dict={x:batch_x,y:batch_y,keep_prob:0.5})\n",
    "            if batch==n_batch-1:\n",
    "                sess.run(train_step,feed_dict={x:batch_x,y:batch_y,keep_prob:0.5})\n",
    "                accuracy_n = sess.run(accuracy,feed_dict={x:batch_x,y:batch_y,keep_prob:1.0})\n",
    "                print(\"第\"+str(enpoch+1)+\"轮，训练准确度为：\"+str(accuracy_n))\n",
    "            \n",
    "        accuracy_n = sess.run(accuracy,feed_dict={x:validation_images,y:validation_labels,keep_prob:1.0})\n",
    "        print(\"第\"+str(enpoch+1)+\"轮，准确度为：\"+str(accuracy_n))\n",
    "        global_step.assign(enpoch).eval()\n",
    "        saver.save(sess,\"/Users/max/Desktop/TensorFlow/tmp/model.ckpt\",global_step=global_step)"
   ]
  }
 ],
 "metadata": {
  "kernelspec": {
   "display_name": "Python 2",
   "language": "python",
   "name": "python2"
  },
  "language_info": {
   "codemirror_mode": {
    "name": "ipython",
    "version": 2
   },
   "file_extension": ".py",
   "mimetype": "text/x-python",
   "name": "python",
   "nbconvert_exporter": "python",
   "pygments_lexer": "ipython2",
   "version": "2.7.15"
  }
 },
 "nbformat": 4,
 "nbformat_minor": 2
}
