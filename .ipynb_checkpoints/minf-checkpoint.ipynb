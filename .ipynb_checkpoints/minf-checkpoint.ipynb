{
 "cells": [
  {
   "cell_type": "code",
   "execution_count": 1,
   "metadata": {},
   "outputs": [],
   "source": [
    "import tensorflow as tf"
   ]
  },
  {
   "cell_type": "code",
   "execution_count": 2,
   "metadata": {},
   "outputs": [],
   "source": [
    "import numpy as np"
   ]
  },
  {
   "cell_type": "code",
   "execution_count": 3,
   "metadata": {},
   "outputs": [],
   "source": [
    "import pandas as pd "
   ]
  },
  {
   "cell_type": "code",
   "execution_count": 4,
   "metadata": {},
   "outputs": [],
   "source": [
    "train = pd.read_csv(\"data/train.csv\")"
   ]
  },
  {
   "cell_type": "code",
   "execution_count": 5,
   "metadata": {},
   "outputs": [],
   "source": [
    "images = train.iloc[:,1:].values"
   ]
  },
  {
   "cell_type": "code",
   "execution_count": 6,
   "metadata": {},
   "outputs": [],
   "source": [
    "labels_flat = train.iloc[:,:1].values.ravel()"
   ]
  },
  {
   "cell_type": "code",
   "execution_count": 7,
   "metadata": {},
   "outputs": [],
   "source": [
    "images = images.astype(np.float)"
   ]
  },
  {
   "cell_type": "code",
   "execution_count": 8,
   "metadata": {},
   "outputs": [],
   "source": [
    "images = np.multiply(images, 1.0/255.0)"
   ]
  },
  {
   "cell_type": "code",
   "execution_count": 9,
   "metadata": {},
   "outputs": [],
   "source": [
    "image_size = images.shape[1]"
   ]
  },
  {
   "cell_type": "code",
   "execution_count": 10,
   "metadata": {},
   "outputs": [],
   "source": [
    "image_width = image_height = np.ceil(np.sqrt(image_size)).astype(np.uint8)"
   ]
  },
  {
   "cell_type": "code",
   "execution_count": 11,
   "metadata": {},
   "outputs": [
    {
     "data": {
      "text/plain": [
       "(42000, 1)"
      ]
     },
     "execution_count": 11,
     "metadata": {},
     "output_type": "execute_result"
    }
   ],
   "source": [
    "train.iloc[:,:1].shape"
   ]
  },
  {
   "cell_type": "code",
   "execution_count": 12,
   "metadata": {},
   "outputs": [],
   "source": [
    "x = tf.placeholder(\"float\", shape=[None, image_size])"
   ]
  },
  {
   "cell_type": "code",
   "execution_count": 13,
   "metadata": {},
   "outputs": [],
   "source": [
    "labels_count = np.unique(labels_flat).shape[0]"
   ]
  },
  {
   "cell_type": "code",
   "execution_count": 14,
   "metadata": {},
   "outputs": [],
   "source": [
    "y = tf.placeholder(\"float\", shape=[None, labels_count])"
   ]
  },
  {
   "cell_type": "code",
   "execution_count": 15,
   "metadata": {},
   "outputs": [
    {
     "data": {
      "text/plain": [
       "10"
      ]
     },
     "execution_count": 15,
     "metadata": {},
     "output_type": "execute_result"
    }
   ],
   "source": [
    "labels_count"
   ]
  },
  {
   "cell_type": "code",
   "execution_count": 16,
   "metadata": {},
   "outputs": [],
   "source": [
    "def dense_to_one_hot(label_dense,num_classes):\n",
    "    num_lables = label_dense.shape[0]\n",
    "    index_offset = np.arange(num_lables) *num_classes\n",
    "    label_one_hot = np.zeros((num_lables, num_classes))\n",
    "    label_one_hot.flat[index_offset + label_dense.ravel()] = 1\n",
    "    return label_one_hot"
   ]
  },
  {
   "cell_type": "code",
   "execution_count": 17,
   "metadata": {},
   "outputs": [],
   "source": [
    "labels = dense_to_one_hot(labels_flat,labels_count)"
   ]
  },
  {
   "cell_type": "code",
   "execution_count": 18,
   "metadata": {},
   "outputs": [],
   "source": [
    "labels = labels.astype(np.uint8)"
   ]
  },
  {
   "cell_type": "code",
   "execution_count": 19,
   "metadata": {},
   "outputs": [],
   "source": [
    "VALIDATION_SIZE = 2000"
   ]
  },
  {
   "cell_type": "code",
   "execution_count": 20,
   "metadata": {},
   "outputs": [],
   "source": [
    "validation_images = images[:VALIDATION_SIZE]"
   ]
  },
  {
   "cell_type": "code",
   "execution_count": 21,
   "metadata": {},
   "outputs": [],
   "source": [
    "validation_labels = labels[:VALIDATION_SIZE]"
   ]
  },
  {
   "cell_type": "code",
   "execution_count": 22,
   "metadata": {},
   "outputs": [],
   "source": [
    "train_images = images[VALIDATION_SIZE:]"
   ]
  },
  {
   "cell_type": "code",
   "execution_count": 23,
   "metadata": {},
   "outputs": [],
   "source": [
    "train_labels = labels[VALIDATION_SIZE:]"
   ]
  },
  {
   "cell_type": "code",
   "execution_count": 24,
   "metadata": {},
   "outputs": [],
   "source": [
    "weights = tf.Variable(tf.zeros([784,10]))"
   ]
  },
  {
   "cell_type": "code",
   "execution_count": 25,
   "metadata": {},
   "outputs": [],
   "source": [
    "biases = tf.Variable(tf.zeros([10]))"
   ]
  },
  {
   "cell_type": "code",
   "execution_count": 26,
   "metadata": {},
   "outputs": [],
   "source": [
    "result = tf.matmul(x,weights)+biases"
   ]
  },
  {
   "cell_type": "code",
   "execution_count": 27,
   "metadata": {},
   "outputs": [],
   "source": [
    "prediction = tf.nn.softmax(result)"
   ]
  },
  {
   "cell_type": "code",
   "execution_count": 28,
   "metadata": {},
   "outputs": [],
   "source": [
    "loss = tf.reduce_mean(tf.nn.softmax_cross_entropy_with_logits_v2(labels =y, logits= prediction))"
   ]
  },
  {
   "cell_type": "code",
   "execution_count": 29,
   "metadata": {},
   "outputs": [],
   "source": [
    "train_step = tf.train.GradientDescentOptimizer(0.1).minimize(loss)"
   ]
  },
  {
   "cell_type": "code",
   "execution_count": 30,
   "metadata": {},
   "outputs": [],
   "source": [
    "init = tf.global_variables_initializer()"
   ]
  },
  {
   "cell_type": "code",
   "execution_count": 31,
   "metadata": {},
   "outputs": [],
   "source": [
    "correct_prediction = tf.equal(tf.argmax(y,1),tf.argmax(prediction,1))"
   ]
  },
  {
   "cell_type": "code",
   "execution_count": 32,
   "metadata": {},
   "outputs": [],
   "source": [
    "accuracy = tf.reduce_mean(tf.cast(correct_prediction,tf.float32))"
   ]
  },
  {
   "cell_type": "code",
   "execution_count": 33,
   "metadata": {},
   "outputs": [
    {
     "name": "stdout",
     "output_type": "stream",
     "text": [
      "第1轮，准确度为：0.7925\n",
      "第2轮，准确度为：0.808\n",
      "第3轮，准确度为：0.8155\n",
      "第4轮，准确度为：0.8535\n",
      "第5轮，准确度为：0.876\n",
      "第6轮，准确度为：0.8875\n",
      "第7轮，准确度为：0.8915\n",
      "第8轮，准确度为：0.895\n",
      "第9轮，准确度为：0.897\n",
      "第10轮，准确度为：0.897\n",
      "第11轮，准确度为：0.899\n",
      "第12轮，准确度为：0.9005\n",
      "第13轮，准确度为：0.901\n",
      "第14轮，准确度为：0.9035\n",
      "第15轮，准确度为：0.9065\n",
      "第16轮，准确度为：0.9075\n",
      "第17轮，准确度为：0.908\n",
      "第18轮，准确度为：0.909\n",
      "第19轮，准确度为：0.9105\n",
      "第20轮，准确度为：0.9105\n",
      "第21轮，准确度为：0.911\n",
      "第22轮，准确度为：0.911\n",
      "第23轮，准确度为：0.9115\n",
      "第24轮，准确度为：0.912\n",
      "第25轮，准确度为：0.9125\n",
      "第26轮，准确度为：0.9135\n",
      "第27轮，准确度为：0.9135\n",
      "第28轮，准确度为：0.9135\n",
      "第29轮，准确度为：0.9135\n",
      "第30轮，准确度为：0.914\n",
      "第31轮，准确度为：0.9145\n",
      "第32轮，准确度为：0.915\n",
      "第33轮，准确度为：0.915\n",
      "第34轮，准确度为：0.915\n",
      "第35轮，准确度为：0.916\n",
      "第36轮，准确度为：0.917\n",
      "第37轮，准确度为：0.918\n",
      "第38轮，准确度为：0.919\n",
      "第39轮，准确度为：0.919\n",
      "第40轮，准确度为：0.9195\n",
      "第41轮，准确度为：0.9195\n",
      "第42轮，准确度为：0.9195\n",
      "第43轮，准确度为：0.919\n",
      "第44轮，准确度为：0.9195\n",
      "第45轮，准确度为：0.9185\n",
      "第46轮，准确度为：0.919\n",
      "第47轮，准确度为：0.919\n",
      "第48轮，准确度为：0.919\n",
      "第49轮，准确度为：0.919\n",
      "第50轮，准确度为：0.9195\n"
     ]
    }
   ],
   "source": [
    "with tf.Session() as sess:\n",
    "    \n",
    "    sess.run(init)\n",
    "    batch_size = 100\n",
    "    n_bacth = train_images.shape[0]/batch_size\n",
    "    for epoch in range(50):\n",
    "        for bacth in range(n_bacth):\n",
    "            batch_x = train_images[bacth*batch_size:(bacth + 1)*batch_size]\n",
    "            bacth_y = train_labels[bacth*batch_size:(bacth + 1)*batch_size]\n",
    "            sess.run(train_step,feed_dict={x:batch_x, y:bacth_y})\n",
    "        \n",
    "        accuracy_n = sess.run(accuracy,feed_dict={x: validation_images, y: validation_labels}) \n",
    "        print(\"第\" + str(epoch+1) + \"轮，准确度为：\" + str(accuracy_n))"
   ]
  },
  {
   "cell_type": "code",
   "execution_count": null,
   "metadata": {},
   "outputs": [],
   "source": []
  }
 ],
 "metadata": {
  "kernelspec": {
   "display_name": "Python 2",
   "language": "python",
   "name": "python2"
  },
  "language_info": {
   "codemirror_mode": {
    "name": "ipython",
    "version": 2
   },
   "file_extension": ".py",
   "mimetype": "text/x-python",
   "name": "python",
   "nbconvert_exporter": "python",
   "pygments_lexer": "ipython2",
   "version": "2.7.15"
  }
 },
 "nbformat": 4,
 "nbformat_minor": 2
}
