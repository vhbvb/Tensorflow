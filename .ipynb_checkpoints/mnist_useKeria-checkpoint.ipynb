{
 "cells": [
  {
   "cell_type": "code",
   "execution_count": 1,
   "metadata": {},
   "outputs": [],
   "source": [
    "import tensorflow as tf"
   ]
  },
  {
   "cell_type": "code",
   "execution_count": 2,
   "metadata": {},
   "outputs": [],
   "source": [
    "import numpy as np"
   ]
  },
  {
   "cell_type": "code",
   "execution_count": 3,
   "metadata": {},
   "outputs": [],
   "source": [
    "import pandas as pd "
   ]
  },
  {
   "cell_type": "code",
   "execution_count": 4,
   "metadata": {},
   "outputs": [],
   "source": [
    "import matplotlib.pyplot as plt"
   ]
  },
  {
   "cell_type": "markdown",
   "metadata": {},
   "source": [
    "#### // 读取数据"
   ]
  },
  {
   "cell_type": "code",
   "execution_count": 5,
   "metadata": {},
   "outputs": [],
   "source": [
    "train = pd.read_csv(\"data/train.csv\")"
   ]
  },
  {
   "cell_type": "code",
   "execution_count": 6,
   "metadata": {},
   "outputs": [],
   "source": [
    "images = train.iloc[:,1:].values"
   ]
  },
  {
   "cell_type": "code",
   "execution_count": 7,
   "metadata": {},
   "outputs": [],
   "source": [
    "labels_flat = train.iloc[:,:1].values.ravel()"
   ]
  },
  {
   "cell_type": "code",
   "execution_count": 8,
   "metadata": {},
   "outputs": [],
   "source": [
    "images = images.astype(np.float)"
   ]
  },
  {
   "cell_type": "code",
   "execution_count": 9,
   "metadata": {},
   "outputs": [],
   "source": [
    "images = np.multiply(images, 1.0/255.0)"
   ]
  },
  {
   "cell_type": "code",
   "execution_count": 10,
   "metadata": {
    "scrolled": true
   },
   "outputs": [
    {
     "data": {
      "image/png": "[encoded data removed]",
      "text/plain": [
       "<Figure size 720x720 with 20 Axes>"
      ]
     },
     "metadata": {},
     "output_type": "display_data"
    }
   ],
   "source": [
    "plt.figure(figsize=(10,10))\n",
    "for i in range(20):\n",
    "    data = images[i]\n",
    "    data = data.reshape((28,28))\n",
    "    plt.subplot(5,5,i+1)\n",
    "    plt.xticks([])\n",
    "    plt.yticks([])\n",
    "    plt.grid(False)\n",
    "    plt.imshow(data,cmap=plt.cm.binary)\n",
    "    plt.xlabel(labels_flat[i])\n",
    "    "
   ]
  },
  {
   "cell_type": "code",
   "execution_count": 11,
   "metadata": {},
   "outputs": [],
   "source": [
    "def dense_to_one_hot(label_dense,num_classes):\n",
    "    num_lables = label_dense.shape[0]\n",
    "    index_offset = np.arange(num_lables) *num_classes\n",
    "    label_one_hot = np.zeros((num_lables, num_classes))\n",
    "    label_one_hot.flat[index_offset + label_dense.ravel()] = 1\n",
    "    return label_one_hot"
   ]
  },
  {
   "cell_type": "code",
   "execution_count": 12,
   "metadata": {},
   "outputs": [],
   "source": [
    "labels_count = np.unique(labels_flat).shape[0]"
   ]
  },
  {
   "cell_type": "code",
   "execution_count": 13,
   "metadata": {},
   "outputs": [],
   "source": [
    "labels = dense_to_one_hot(labels_flat,labels_count)"
   ]
  },
  {
   "cell_type": "code",
   "execution_count": 14,
   "metadata": {},
   "outputs": [],
   "source": [
    "labels = labels.astype(np.uint8)"
   ]
  },
  {
   "cell_type": "markdown",
   "metadata": {},
   "source": [
    "#### // 数据集分组"
   ]
  },
  {
   "cell_type": "code",
   "execution_count": 15,
   "metadata": {},
   "outputs": [],
   "source": [
    "VALIDATION_SIZE = 2000"
   ]
  },
  {
   "cell_type": "code",
   "execution_count": 16,
   "metadata": {},
   "outputs": [],
   "source": [
    "validation_images = images[:VALIDATION_SIZE]"
   ]
  },
  {
   "cell_type": "code",
   "execution_count": 17,
   "metadata": {},
   "outputs": [],
   "source": [
    "validation_labels = labels[:VALIDATION_SIZE]"
   ]
  },
  {
   "cell_type": "code",
   "execution_count": 18,
   "metadata": {},
   "outputs": [],
   "source": [
    "train_images = images[VALIDATION_SIZE:]"
   ]
  },
  {
   "cell_type": "code",
   "execution_count": 19,
   "metadata": {},
   "outputs": [],
   "source": [
    "train_labels = labels[VALIDATION_SIZE:]"
   ]
  },
  {
   "cell_type": "markdown",
   "metadata": {},
   "source": [
    "#### //模型建立"
   ]
  },
  {
   "cell_type": "code",
   "execution_count": 20,
   "metadata": {},
   "outputs": [],
   "source": [
    "model = tf.keras.Sequential()"
   ]
  },
  {
   "cell_type": "code",
   "execution_count": 21,
   "metadata": {},
   "outputs": [],
   "source": [
    "model.add(tf.keras.layers.Dense(128,activation=tf.nn.relu))\n",
    "model.add(tf.keras.layers.Dropout(0.2))\n",
    "model.add(tf.keras.layers.Dense(10,activation=tf.nn.softmax))"
   ]
  },
  {
   "cell_type": "code",
   "execution_count": 22,
   "metadata": {},
   "outputs": [],
   "source": [
    "model.compile(optimizer='adam',loss=tf.keras.losses.categorical_crossentropy,metrics=[\"accuracy\"])"
   ]
  },
  {
   "cell_type": "code",
   "execution_count": 23,
   "metadata": {},
   "outputs": [
    {
     "name": "stdout",
     "output_type": "stream",
     "text": [
      "Epoch 1/20\n",
      "40000/40000 [==============================] - 1s 28us/step - loss: 0.7448 - acc: 0.7946\n",
      "Epoch 2/20\n",
      "40000/40000 [==============================] - 1s 22us/step - loss: 0.2873 - acc: 0.9210\n",
      "Epoch 3/20\n",
      "40000/40000 [==============================] - 1s 22us/step - loss: 0.2294 - acc: 0.9347\n",
      "Epoch 4/20\n",
      "40000/40000 [==============================] - 1s 22us/step - loss: 0.1921 - acc: 0.9466\n",
      "Epoch 5/20\n",
      "40000/40000 [==============================] - 1s 23us/step - loss: 0.1641 - acc: 0.9549\n",
      "Epoch 6/20\n",
      "40000/40000 [==============================] - 1s 24us/step - loss: 0.1451 - acc: 0.9598\n",
      "Epoch 7/20\n",
      "40000/40000 [==============================] - 1s 24us/step - loss: 0.1270 - acc: 0.9652\n",
      "Epoch 8/20\n",
      "40000/40000 [==============================] - 1s 24us/step - loss: 0.1138 - acc: 0.9690\n",
      "Epoch 9/20\n",
      "40000/40000 [==============================] - 1s 23us/step - loss: 0.1019 - acc: 0.9718\n",
      "Epoch 10/20\n",
      "40000/40000 [==============================] - 1s 24us/step - loss: 0.0920 - acc: 0.9746\n",
      "Epoch 11/20\n",
      "40000/40000 [==============================] - 1s 24us/step - loss: 0.0836 - acc: 0.9772\n",
      "Epoch 12/20\n",
      "40000/40000 [==============================] - 1s 24us/step - loss: 0.0770 - acc: 0.9795\n",
      "Epoch 13/20\n",
      "40000/40000 [==============================] - 1s 22us/step - loss: 0.0701 - acc: 0.9811\n",
      "Epoch 14/20\n",
      "40000/40000 [==============================] - 1s 22us/step - loss: 0.0644 - acc: 0.9832\n",
      "Epoch 15/20\n",
      "40000/40000 [==============================] - 1s 23us/step - loss: 0.0590 - acc: 0.9844\n",
      "Epoch 16/20\n",
      "40000/40000 [==============================] - 1s 23us/step - loss: 0.0545 - acc: 0.9856\n",
      "Epoch 17/20\n",
      "40000/40000 [==============================] - 1s 23us/step - loss: 0.0501 - acc: 0.9870\n",
      "Epoch 18/20\n",
      "40000/40000 [==============================] - 1s 23us/step - loss: 0.0469 - acc: 0.9883\n",
      "Epoch 19/20\n",
      "40000/40000 [==============================] - 1s 23us/step - loss: 0.0427 - acc: 0.9895\n",
      "Epoch 20/20\n",
      "40000/40000 [==============================] - 1s 25us/step - loss: 0.0399 - acc: 0.9901\n"
     ]
    },
    {
     "data": {
      "text/plain": [
       "<tensorflow.python.keras.callbacks.History at 0x1251a7e50>"
      ]
     },
     "execution_count": 23,
     "metadata": {},
     "output_type": "execute_result"
    }
   ],
   "source": [
    "model.fit(train_images, train_labels,epochs=20, batch_size=500)"
   ]
  },
  {
   "cell_type": "code",
   "execution_count": 24,
   "metadata": {},
   "outputs": [
    {
     "name": "stdout",
     "output_type": "stream",
     "text": [
      "2000/2000 [==============================] - 0s 100us/step\n"
     ]
    },
    {
     "data": {
      "text/plain": [
       "[0.08450955518335104, 0.9775]"
      ]
     },
     "execution_count": 24,
     "metadata": {},
     "output_type": "execute_result"
    }
   ],
   "source": [
    "model.evaluate(validation_images,validation_labels)"
   ]
  },
  {
   "cell_type": "code",
   "execution_count": null,
   "metadata": {},
   "outputs": [],
   "source": []
  }
 ],
 "metadata": {
  "kernelspec": {
   "display_name": "Python 2",
   "language": "python",
   "name": "python2"
  },
  "language_info": {
   "codemirror_mode": {
    "name": "ipython",
    "version": 2
   },
   "file_extension": ".py",
   "mimetype": "text/x-python",
   "name": "python",
   "nbconvert_exporter": "python",
   "pygments_lexer": "ipython2",
   "version": "2.7.15"
  }
 },
 "nbformat": 4,
 "nbformat_minor": 2
}
